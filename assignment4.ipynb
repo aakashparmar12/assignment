{
 "cells": [
  {
   "attachments": {},
   "cell_type": "markdown",
   "metadata": {},
   "source": [
    "Q1. Explain Class and Object with respect to Object-Oriented Programming. Give a suitable example.\n",
    "\n",
    "Ans .In Python, object-oriented Programming (OOPs) is a programming that uses objects and classes in programming.The main concept of OOPs is to bind the data and the functions that work on that together as a single unit so that no other part of the code can access this data. It aims to implement real-world entities like inheritance, polymorphisms, encapsulation, etc. in the programming. \n",
    "Class:- \"The class can be defined as a collection of objects. It is a logical entity that has some specific attributes and methods. For example: if you have an employee class, then it should contain an attribute and method, i.e. an email id, name, age, salary, etc.\n",
    "The object is an entity that has state and behavior. It may be any real-world object like the mouse, keyboard, chair, table, pen, etc.\n",
    "Everything in Python is an object, and almost everything has attributes and methods.\n",
    "When we define a class, it needs to create an object to allocate the memory. Consider the following example"
   ]
  },
  {
   "cell_type": "code",
   "execution_count": 1,
   "metadata": {},
   "outputs": [
    {
     "name": "stdout",
     "output_type": "stream",
     "text": [
      "Toyota 2016\n"
     ]
    }
   ],
   "source": [
    "class car:  \n",
    "    def __init__(self,modelname, year):  \n",
    "        self.modelname = modelname  \n",
    "        self.year = year  \n",
    "    def display(self):  \n",
    "        print(self.modelname,self.year)  \n",
    "  \n",
    "c1 = car(\"Toyota\", 2016)  \n",
    "c1.display()  "
   ]
  },
  {
   "cell_type": "markdown",
   "metadata": {},
   "source": [
    "In the above example, we have created the class named car, and it has two attributes modelname and year. We have created a c1 object to access the class attribute. The c1 object will allocate memory for these values"
   ]
  },
  {
   "attachments": {},
   "cell_type": "markdown",
   "metadata": {},
   "source": [
    "Que 2 : -Name the four pillars of OOPs.\n",
    "\n",
    "Ans:-These principles are called the four pillars of object-oriented programming (OOP). These four pillars are Inheritance, Polymorphism, Encapsulation and Abstraction"
   ]
  },
  {
   "attachments": {},
   "cell_type": "markdown",
   "metadata": {},
   "source": [
    "Q3. Explain why the __init__() function is used. Give a suitable example.\n",
    "\n",
    "Ans:- every object could have its values for the attributes of a class. This functionality can be achieved using the __init__ method.\n",
    "It is a constructor, allowing a class to hold objects with different values.\n",
    "We need not call it like we call a normal method. It is similar to a method inside a class. It is executed as soon as an object is created for the class."
   ]
  },
  {
   "cell_type": "code",
   "execution_count": 10,
   "metadata": {},
   "outputs": [
    {
     "name": "stdout",
     "output_type": "stream",
     "text": [
      "Stud. name = aakash\n",
      "Stud. age = 25\n"
     ]
    }
   ],
   "source": [
    "class Student:  \n",
    "    def __init__ (self, name,age):\n",
    "        self. name = name   \n",
    "        self.age= age\n",
    "name = input (\"Please enter the name of the student: \")  \n",
    "age = input (\"Please enter the age of the student: \")  \n",
    "print (\"Stud. name =\",name ) \n",
    "print (\"Stud. age =\",age )\n"
   ]
  },
  {
   "attachments": {},
   "cell_type": "markdown",
   "metadata": {},
   "source": [
    "In the program, we created a class called \"Student\" with 2 attributes: name, age. Using the self variable, we defined the attributes in the __init__ method. "
   ]
  },
  {
   "attachments": {},
   "cell_type": "markdown",
   "metadata": {},
   "source": [
    "Q4. Why self is used in OOPs?\n",
    "\n",
    "The self-parameter refers to the current instance of the class and accesses the class variables. We can use anything instead of self, but it must be the first parameter of any function which belongs to the class."
   ]
  },
  {
   "attachments": {},
   "cell_type": "markdown",
   "metadata": {},
   "source": [
    "Q5. What is inheritance? Give an example for each type of inheritance."
   ]
  }
 ],
 "metadata": {
  "kernelspec": {
   "display_name": "Python 3",
   "language": "python",
   "name": "python3"
  },
  "language_info": {
   "codemirror_mode": {
    "name": "ipython",
    "version": 3
   },
   "file_extension": ".py",
   "mimetype": "text/x-python",
   "name": "python",
   "nbconvert_exporter": "python",
   "pygments_lexer": "ipython3",
   "version": "3.10.10"
  },
  "orig_nbformat": 4
 },
 "nbformat": 4,
 "nbformat_minor": 2
}
