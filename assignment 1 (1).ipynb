{
 "cells": [
  {
   "cell_type": "raw",
   "id": "e773fa06-868e-44da-8474-f88d9dce0a9f",
   "metadata": {},
   "source": [
    "Q.1 When to use while loop and for loop.\n",
    "\n",
    "Ans. whenver you want work on conditions you use while loop because while loop always check condition and then go ahead. on other hand for loop doesn't check condition.we use for loop when we know the iteratrion and we give the start and end point.when we only know the end point then we use while loop."
   ]
  },
  {
   "cell_type": "code",
   "execution_count": 3,
   "id": "b341a5a1-9a7b-48db-b6d6-48c50036e9e7",
   "metadata": {},
   "outputs": [
    {
     "data": {
      "text/plain": [
       "15"
      ]
     },
     "execution_count": 3,
     "metadata": {},
     "output_type": "execute_result"
    }
   ],
   "source": [
    "##sum of first five no. using for loop\n",
    "a=[1,2,3,4,5,] ##here i assign individiual the value. \n",
    "sum=0\n",
    "for i in a: ##here is not condition checking\n",
    "    sum=sum+i\n",
    "sum"
   ]
  },
  {
   "cell_type": "code",
   "execution_count": 2,
   "id": "5da435f2-5108-412a-8d96-9f79c194fa70",
   "metadata": {
    "tags": []
   },
   "outputs": [
    {
     "data": {
      "text/plain": [
       "15"
      ]
     },
     "execution_count": 2,
     "metadata": {},
     "output_type": "execute_result"
    }
   ],
   "source": [
    "##sum of first five no. using while loop\n",
    "b=0\n",
    "sum =0\n",
    "while b<=5:\n",
    "    sum=sum+b\n",
    "    b=b+1\n",
    "sum"
   ]
  },
  {
   "cell_type": "raw",
   "id": "888aea65-1547-4886-a6cb-f046a33da441",
   "metadata": {},
   "source": [
    "Q2:- product and sum of first 10 number"
   ]
  },
  {
   "cell_type": "code",
   "execution_count": 12,
   "id": "11e90c8a-fcb7-4582-885c-bfdefab55e8b",
   "metadata": {},
   "outputs": [
    {
     "data": {
      "text/plain": [
       "45"
      ]
     },
     "execution_count": 12,
     "metadata": {},
     "output_type": "execute_result"
    }
   ],
   "source": [
    "## sum using for loop\n",
    "range(1,11)\n",
    "sum=0\n",
    "for i in range(1,11) :\n",
    "    sum=sum+i\n",
    "sum    \n",
    "    "
   ]
  },
  {
   "cell_type": "code",
   "execution_count": 14,
   "id": "a151d84b-06f9-4f47-8f12-3291b9c0425c",
   "metadata": {},
   "outputs": [
    {
     "name": "stdout",
     "output_type": "stream",
     "text": [
      "1\n",
      "2\n",
      "6\n",
      "24\n",
      "120\n",
      "720\n",
      "5040\n",
      "40320\n",
      "362880\n",
      "3628800\n"
     ]
    }
   ],
   "source": [
    "## product using for loop\n",
    "range(1,11)\n",
    "product=1\n",
    "for i in range(1,11) :\n",
    "    product=product*i\n",
    "    print(product)"
   ]
  },
  {
   "cell_type": "code",
   "execution_count": 7,
   "id": "b2d67e42-c74a-4938-a91c-fefe34cc1999",
   "metadata": {
    "tags": []
   },
   "outputs": [
    {
     "data": {
      "text/plain": [
       "55"
      ]
     },
     "execution_count": 7,
     "metadata": {},
     "output_type": "execute_result"
    }
   ],
   "source": [
    "## sum using while loop\n",
    "a=1\n",
    "sum =0\n",
    "while a<=10:\n",
    "    sum=sum+a\n",
    "    a=a+1\n",
    "sum    "
   ]
  },
  {
   "cell_type": "code",
   "execution_count": 8,
   "id": "64e0ad10-b9fa-4f70-8f5c-0c127bfc52be",
   "metadata": {},
   "outputs": [
    {
     "name": "stdout",
     "output_type": "stream",
     "text": [
      "1\n",
      "2\n",
      "6\n",
      "24\n",
      "120\n",
      "720\n",
      "5040\n",
      "40320\n",
      "362880\n",
      "3628800\n"
     ]
    }
   ],
   "source": [
    "## product using while loop\n",
    "a=1\n",
    "product=1\n",
    "while a<=10:\n",
    "    product=product*a\n",
    "    a=a+1\n",
    "    print(product)"
   ]
  },
  {
   "cell_type": "raw",
   "id": "4bf234c9-e67e-4e52-b9ee-4eafbcd78727",
   "metadata": {},
   "source": [
    "calculate the electricity bill using python"
   ]
  },
  {
   "cell_type": "code",
   "execution_count": 10,
   "id": "32b59293-bde7-47d9-962a-6ac9080676d9",
   "metadata": {},
   "outputs": [
    {
     "name": "stdin",
     "output_type": "stream",
     "text": [
      "enter your unit 310\n"
     ]
    },
    {
     "name": "stdout",
     "output_type": "stream",
     "text": [
      "2250.0\n"
     ]
    }
   ],
   "source": [
    "unit=int(input(\"enter your unit\"))\n",
    "if unit<=100:\n",
    "    print (unit*4.5)\n",
    "elif unit >=100 and unit<=200:\n",
    "        print((unit-100)*6+100*4.5)\n",
    "elif unit>=200 and unit<=300:\n",
    "    print((unit-200)*10+(4.5+6)*100)\n",
    "else:\n",
    "     print((unit-300)*20+(4.5+6+10)*100)"
   ]
  },
  {
   "cell_type": "raw",
   "id": "739baed6-da6b-4e3d-9589-0a900c1edc8a",
   "metadata": {},
   "source": [
    "Que. 4 list of 1 to 100 no."
   ]
  },
  {
   "cell_type": "code",
   "execution_count": 4,
   "id": "0e268580-5dd9-4e88-b19c-00f497690937",
   "metadata": {},
   "outputs": [],
   "source": [
    "## making a list of 1 to 100\n",
    "range(1,101)\n",
    "list=[]\n",
    "cube=0\n",
    "for i in range(1,100):\n",
    "    list.append(i)"
   ]
  },
  {
   "cell_type": "code",
   "execution_count": null,
   "id": "d1323622-1ad0-4316-96ea-021815b3fbb5",
   "metadata": {},
   "outputs": [],
   "source": [
    "##calculate the cube and make a list of 4 and 5 divisable number\n",
    "list=[]\n",
    "for i in range(1,101):\n",
    "    i=i**3\n",
    "    if i%4==0 or i%5==0:\n",
    "        list.append(i)\n",
    "list"
   ]
  },
  {
   "cell_type": "code",
   "execution_count": null,
   "id": "08123edc-2bd2-4336-9cfd-1e6e3e866d18",
   "metadata": {},
   "outputs": [],
   "source": []
  }
 ],
 "metadata": {
  "kernelspec": {
   "display_name": "Python 3 (ipykernel)",
   "language": "python",
   "name": "python3"
  },
  "language_info": {
   "codemirror_mode": {
    "name": "ipython",
    "version": 3
   },
   "file_extension": ".py",
   "mimetype": "text/x-python",
   "name": "python",
   "nbconvert_exporter": "python",
   "pygments_lexer": "ipython3",
   "version": "3.10.8"
  }
 },
 "nbformat": 4,
 "nbformat_minor": 5
}
