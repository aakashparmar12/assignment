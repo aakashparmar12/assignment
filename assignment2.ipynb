{
 "cells": [
  {
   "cell_type": "markdown",
   "id": "c449c5d0-5aa4-4c21-ab15-83d639213fc9",
   "metadata": {},
   "source": [
    "Q1. Which keyword is used to create a function? Create a function to return a list of odd numbers in the\n",
    "range of 1 to 25.\n",
    "\n",
    "Ans . \"def\" keyword is used to make a function :"
   ]
  },
  {
   "cell_type": "code",
   "execution_count": 26,
   "id": "9576123d-f68a-4074-88ec-e253763f8d3e",
   "metadata": {},
   "outputs": [],
   "source": [
    "##Create a function to return a list of odd numbers in the range of 1 to 25.\n",
    "\n",
    "def odd_num(l):\n",
    "    l1=[]\n",
    "    for i in range(1,25) :\n",
    "        if i%2!=0:\n",
    "            l1.append(i)\n",
    "    return l1           "
   ]
  },
  {
   "cell_type": "code",
   "execution_count": 27,
   "id": "c9afa1cd-5fd1-405d-a438-021197a12ae8",
   "metadata": {},
   "outputs": [
    {
     "data": {
      "text/plain": [
       "[1, 3, 5, 7, 9, 11, 13, 15, 17, 19, 21, 23]"
      ]
     },
     "execution_count": 27,
     "metadata": {},
     "output_type": "execute_result"
    }
   ],
   "source": [
    "odd_num(l)"
   ]
  },
  {
   "cell_type": "markdown",
   "id": "46ffdba3-f877-44f7-9064-7e654fa03aa2",
   "metadata": {},
   "source": [
    "Q2. Why *args and **kwargs is used in some functions? Create a function each for *args and **kwargs\n",
    "to demonstrate their use.\n",
    "Ans *args is used for input of n num in tuple. and **kwargs is used make a dictionary  of multiple key and value."
   ]
  },
  {
   "cell_type": "code",
   "execution_count": 34,
   "id": "5144c9d7-b6e7-4911-ba4c-5333525be107",
   "metadata": {},
   "outputs": [],
   "source": [
    "def number(*args):\n",
    "    return(args)"
   ]
  },
  {
   "cell_type": "code",
   "execution_count": 37,
   "id": "0a1df690-8f01-4171-80cb-1614fdff5a0e",
   "metadata": {},
   "outputs": [
    {
     "data": {
      "text/plain": [
       "(2, 4, 5, 7, 2, 45, 34)"
      ]
     },
     "execution_count": 37,
     "metadata": {},
     "output_type": "execute_result"
    }
   ],
   "source": [
    "number(2,4,5,7,2,45,34)"
   ]
  },
  {
   "cell_type": "code",
   "execution_count": 41,
   "id": "8f397cf7-3e2d-43c1-854f-0a0ac589bf8f",
   "metadata": {},
   "outputs": [],
   "source": [
    "def number2(**kwargs):\n",
    "    return(kwargs)"
   ]
  },
  {
   "cell_type": "code",
   "execution_count": 42,
   "id": "4eddf85f-7eba-4ca6-b292-075ca31851ab",
   "metadata": {},
   "outputs": [
    {
     "data": {
      "text/plain": [
       "{'a': 12, 'b': [12, 13, 4, 53, 5], 'c': 'hello world'}"
      ]
     },
     "execution_count": 42,
     "metadata": {},
     "output_type": "execute_result"
    }
   ],
   "source": [
    "number2(a=12,b=[12,13,4,53,5],c=\"hello world\")"
   ]
  },
  {
   "cell_type": "markdown",
   "id": "333a4a40-a1f7-4808-8057-8cca7d91d278",
   "metadata": {},
   "source": [
    "Q3. What is an iterator in python? Name the method used to initialise the iterator object and the method\n",
    "used for iteration. Use these methods to print the first five elements of the given list [2, 4, 6, 8, 10, 12, 14,\n",
    "16, 18, 20].\n",
    "Ans. an iterator is a special function in oythonm wich used to iterate value individually from an iterable object , list etc.\n",
    "itr() and next() are the method use for iteration"
   ]
  },
  {
   "cell_type": "code",
   "execution_count": 18,
   "id": "fe20ab89-8b15-405d-ae48-c5f71c7185cf",
   "metadata": {},
   "outputs": [
    {
     "name": "stdout",
     "output_type": "stream",
     "text": [
      "2\n",
      "4\n",
      "6\n",
      "8\n",
      "10\n"
     ]
    }
   ],
   "source": [
    "##the first five elements of the given list\n",
    "list =  [2,4,6,8,10,12,14,16,18,20]\n",
    "my_itr=iter(list)\n",
    "print(next(my_itr))\n",
    "print(next(my_itr))\n",
    "print(next(my_itr))\n",
    "print(next(my_itr))\n",
    "print(next(my_itr))"
   ]
  },
  {
   "cell_type": "markdown",
   "id": "0fc654d3-1234-4a79-bd11-f38b557f5afd",
   "metadata": {},
   "source": [
    "Q4. What is a generator function in python? Why yield keyword is used? Give an example of a generator\n",
    "function.\n",
    "Ans. generator is funtion which is used when we need to input a large value. it is basiically produce an iterator which produce a sequence of value.\n",
    "def is used for a generator function .generator function give return in object which we can iterat .\n",
    "yield is keyword which used to produce value from generator function"
   ]
  },
  {
   "cell_type": "code",
   "execution_count": 51,
   "id": "9014c4d2-0a33-48cf-bd70-7761aca3593f",
   "metadata": {},
   "outputs": [],
   "source": [
    "##produce finacci of no. using generator\n",
    "def test(n):\n",
    "    a=2\n",
    "    for i in range(n):\n",
    "        yield a\n",
    "        a=a+1"
   ]
  },
  {
   "cell_type": "code",
   "execution_count": 52,
   "id": "c8ee4b5a-e5e9-4157-ae2e-ba83f4cf0787",
   "metadata": {},
   "outputs": [
    {
     "name": "stdout",
     "output_type": "stream",
     "text": [
      "2\n",
      "3\n",
      "4\n",
      "5\n",
      "6\n",
      "7\n"
     ]
    }
   ],
   "source": [
    "for i in test(6):\n",
    "    print (i)\n",
    "    "
   ]
  },
  {
   "cell_type": "markdown",
   "id": "cc6e2167-9ef2-4958-be46-b5165d070c15",
   "metadata": {},
   "source": [
    "Q5. Create a generator function for prime numbers less than 1000. Use the next() method to print the\n",
    "first 20 prime numbers."
   ]
  },
  {
   "cell_type": "code",
   "execution_count": 61,
   "id": "453646ee-2339-43d6-a087-6e3382754e44",
   "metadata": {},
   "outputs": [
    {
     "name": "stdout",
     "output_type": "stream",
     "text": [
      "2\n",
      "3\n",
      "5\n",
      "7\n",
      "11\n",
      "13\n",
      "17\n",
      "19\n",
      "23\n",
      "29\n",
      "31\n",
      "37\n",
      "41\n",
      "43\n",
      "47\n",
      "53\n",
      "59\n",
      "61\n",
      "67\n",
      "71\n",
      "73\n",
      "79\n",
      "83\n",
      "89\n",
      "97\n",
      "101\n",
      "103\n",
      "107\n",
      "109\n",
      "113\n",
      "127\n",
      "131\n",
      "137\n",
      "139\n",
      "149\n",
      "151\n",
      "157\n",
      "163\n",
      "167\n",
      "173\n",
      "179\n",
      "181\n",
      "191\n",
      "193\n",
      "197\n",
      "199\n",
      "211\n",
      "223\n",
      "227\n",
      "229\n",
      "233\n",
      "239\n",
      "241\n",
      "251\n",
      "257\n",
      "263\n",
      "269\n",
      "271\n",
      "277\n",
      "281\n",
      "283\n",
      "293\n",
      "307\n",
      "311\n",
      "313\n",
      "317\n",
      "331\n",
      "337\n",
      "347\n",
      "349\n",
      "353\n",
      "359\n",
      "367\n",
      "373\n",
      "379\n",
      "383\n",
      "389\n",
      "397\n",
      "401\n",
      "409\n",
      "419\n",
      "421\n",
      "431\n",
      "433\n",
      "439\n",
      "443\n",
      "449\n",
      "457\n",
      "461\n",
      "463\n",
      "467\n",
      "479\n",
      "487\n",
      "491\n",
      "499\n",
      "503\n",
      "509\n",
      "521\n",
      "523\n",
      "541\n",
      "547\n",
      "557\n",
      "563\n",
      "569\n",
      "571\n",
      "577\n",
      "587\n",
      "593\n",
      "599\n",
      "601\n",
      "607\n",
      "613\n",
      "617\n",
      "619\n",
      "631\n",
      "641\n",
      "643\n",
      "647\n",
      "653\n",
      "659\n",
      "661\n",
      "673\n",
      "677\n",
      "683\n",
      "691\n",
      "701\n",
      "709\n",
      "719\n",
      "727\n",
      "733\n",
      "739\n",
      "743\n",
      "751\n",
      "757\n",
      "761\n",
      "769\n",
      "773\n",
      "787\n",
      "797\n",
      "809\n",
      "811\n",
      "821\n",
      "823\n",
      "827\n",
      "829\n",
      "839\n",
      "853\n",
      "857\n",
      "859\n",
      "863\n",
      "877\n",
      "881\n",
      "883\n",
      "887\n",
      "907\n",
      "911\n",
      "919\n",
      "929\n",
      "937\n",
      "941\n",
      "947\n",
      "953\n",
      "967\n",
      "971\n",
      "977\n",
      "983\n",
      "991\n",
      "997\n"
     ]
    }
   ],
   "source": [
    "\n",
    "def prime(n):\n",
    "    a=2\n",
    "    for i in range(n):\n",
    "        yield a\n",
    "        a=a+1\n",
    "for i in prime(1000):\n",
    "    b=0\n",
    "    for j in range(2,1001):\n",
    "        if i%j==0:\n",
    "            b=b+1\n",
    "    if b<=1:\n",
    "        print (i)"
   ]
  },
  {
   "cell_type": "markdown",
   "id": "e6f74f9d-ed1a-43ca-8332-d49c86f8ed2a",
   "metadata": {},
   "source": [
    "Ques:-Write a python program to print the first 10 Fibonacci numbers using a while loop."
   ]
  },
  {
   "cell_type": "code",
   "execution_count": 15,
   "id": "aaee66be-c51a-4958-becf-907dffcdb3b1",
   "metadata": {},
   "outputs": [
    {
     "name": "stdout",
     "output_type": "stream",
     "text": [
      "0\n",
      "1\n",
      "1\n",
      "2\n",
      "3\n",
      "5\n",
      "8\n",
      "13\n",
      "21\n",
      "34\n"
     ]
    }
   ],
   "source": [
    "def feb_num(n):\n",
    "    a,b=0,1\n",
    "    while True:\n",
    "        yield a\n",
    "        a,b=b,a+b\n",
    "c=feb_num(10)\n",
    "for i in range(10):\n",
    "    print(next(c))"
   ]
  },
  {
   "cell_type": "markdown",
   "id": "b72eb025-f902-4fb1-bb87-ce17f70f3251",
   "metadata": {},
   "source": [
    "Q7. Write a List Comprehension to iterate through the given string: ‘pwskills’.\n",
    "Expected output: ['p', 'w', 's', 'k', 'i', 'l', 'l', 's']."
   ]
  },
  {
   "cell_type": "code",
   "execution_count": 21,
   "id": "eac4f181-7c29-445d-8948-87d86b1407bf",
   "metadata": {},
   "outputs": [
    {
     "data": {
      "text/plain": [
       "['p', 'w', 's', 'k', 'i', 'l', 'l', 's']"
      ]
     },
     "execution_count": 21,
     "metadata": {},
     "output_type": "execute_result"
    }
   ],
   "source": [
    "a=\"pwskills\"\n",
    "[i for i in a]"
   ]
  },
  {
   "cell_type": "markdown",
   "id": "389cbd86-8b6c-49a2-83d4-e04f99ff6d04",
   "metadata": {},
   "source": [
    "Write a python program to check whether a given number is Palindrome or not using a while loop."
   ]
  },
  {
   "cell_type": "code",
   "execution_count": 13,
   "id": "68d7dc53-cffb-4f1a-a02d-755ba6703c6d",
   "metadata": {},
   "outputs": [
    {
     "name": "stdin",
     "output_type": "stream",
     "text": [
      "enter your number 121\n"
     ]
    },
    {
     "name": "stdout",
     "output_type": "stream",
     "text": [
      "number is polindrom\n"
     ]
    }
   ],
   "source": [
    "number=int(input(\"enter your number\"))\n",
    "reverse=0\n",
    "original=number\n",
    "while number >0:\n",
    "    a=number%10\n",
    "    reverse=reverse*10+a\n",
    "    number=number//10\n",
    "if original==reverse:\n",
    "    print(\"number is polindrom\")\n",
    "else:\n",
    "     print(\"number is not polindrom\")\n",
    "    "
   ]
  },
  {
   "cell_type": "markdown",
   "id": "5c3c7e39-eba2-40e7-9ea2-f3edce093a89",
   "metadata": {},
   "source": [
    "Write a code to print odd numbers from 1 to 100 using list comprehension."
   ]
  },
  {
   "cell_type": "code",
   "execution_count": 18,
   "id": "95c6736b-85e4-43ba-afdb-ac9c64909f67",
   "metadata": {},
   "outputs": [
    {
     "name": "stdout",
     "output_type": "stream",
     "text": [
      "[1, 3, 5, 7, 9, 11, 13, 15, 17, 19, 21, 23, 25, 27, 29, 31, 33, 35, 37, 39, 41, 43, 45, 47, 49, 51, 53, 55, 57, 59, 61, 63, 65, 67, 69, 71, 73, 75, 77, 79, 81, 83, 85, 87, 89, 91, 93, 95, 97, 99]\n"
     ]
    }
   ],
   "source": [
    "odd_num= [i for i in range(1,100) if i%2 !=0]\n",
    "print(odd_num)\n"
   ]
  }
 ],
 "metadata": {
  "kernelspec": {
   "display_name": "Python 3 (ipykernel)",
   "language": "python",
   "name": "python3"
  },
  "language_info": {
   "codemirror_mode": {
    "name": "ipython",
    "version": 3
   },
   "file_extension": ".py",
   "mimetype": "text/x-python",
   "name": "python",
   "nbconvert_exporter": "python",
   "pygments_lexer": "ipython3",
   "version": "3.10.8"
  }
 },
 "nbformat": 4,
 "nbformat_minor": 5
}
